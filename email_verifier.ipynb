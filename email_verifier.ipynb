{
 "cells": [
  {
   "cell_type": "markdown",
   "id": "83944e93",
   "metadata": {},
   "source": [
    "***This function is use to checks an email for the @ symbol***"
   ]
  },
  {
   "cell_type": "code",
   "execution_count": 4,
   "id": "82e38e17",
   "metadata": {},
   "outputs": [],
   "source": [
    "def email_verifier(email):\n",
    "    arobase_symbol = '@'\n",
    "    if arobase_symbol in email:\n",
    "        print(\"The email address is correct\")\n",
    "    else:\n",
    "        print(\"Please enter a valid email\")"
   ]
  },
  {
   "cell_type": "markdown",
   "id": "7e40f884",
   "metadata": {},
   "source": [
    "**let see an example**"
   ]
  },
  {
   "cell_type": "code",
   "execution_count": 5,
   "id": "705a53d4",
   "metadata": {},
   "outputs": [
    {
     "name": "stdout",
     "output_type": "stream",
     "text": [
      "The email address is correct\n"
     ]
    }
   ],
   "source": [
    "email_verifier(\"sss@gss\")"
   ]
  },
  {
   "cell_type": "code",
   "execution_count": null,
   "id": "0ed49620",
   "metadata": {},
   "outputs": [],
   "source": [
    "email_verifier(\"DataInsi\")"
   ]
  }
 ],
 "metadata": {
  "kernelspec": {
   "display_name": "Python 3",
   "language": "python",
   "name": "python3"
  },
  "language_info": {
   "codemirror_mode": {
    "name": "ipython",
    "version": 3
   },
   "file_extension": ".py",
   "mimetype": "text/x-python",
   "name": "python",
   "nbconvert_exporter": "python",
   "pygments_lexer": "ipython3",
   "version": "3.8.8"
  }
 },
 "nbformat": 4,
 "nbformat_minor": 5
}
