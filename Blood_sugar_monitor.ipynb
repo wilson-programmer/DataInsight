{
 "cells": [
  {
   "cell_type": "markdown",
   "id": "b9f4304e",
   "metadata": {},
   "source": [
    "# Blood sugar monitor App"
   ]
  },
  {
   "cell_type": "code",
   "execution_count": 8,
   "id": "50922bf0",
   "metadata": {},
   "outputs": [],
   "source": [
    "def blood_sugar():\n",
    "     \"\"\" Blood sugar monitor\n",
    "    \n",
    "    Args:\n",
    "    \n",
    "    \n",
    "    Returns:\n",
    "    str: Health status based on blood sugar\n",
    "    \n",
    "    \"\"\"  \n",
    "    \n",
    "    \n",
    "    blood_s = float(input(\"Enter your blood sugar\"))\n",
    "    threshold = 0.7\n",
    "    if(blood_s<threshold):\n",
    "        print(\"Your are in Hypoglycemia\")\n",
    "    elif(threshold<=blood_s and blood_s<=1):\n",
    "        print(\"Your blood sugar level is right\")\n",
    "    elif(blood_s>=1 and blood_s<=1.25):\n",
    "        print(\"Moderate Hyperglycemia\")\n",
    "    else:\n",
    "        print(\"Diabetes\")"
   ]
  },
  {
   "cell_type": "code",
   "execution_count": 9,
   "id": "e21a7b38",
   "metadata": {},
   "outputs": [
    {
     "name": "stdout",
     "output_type": "stream",
     "text": [
      "Enter your blood sugar1.26\n",
      "Diabetes\n"
     ]
    }
   ],
   "source": [
    "blood_sugar()"
   ]
  },
  {
   "cell_type": "code",
   "execution_count": null,
   "id": "0091095d",
   "metadata": {},
   "outputs": [],
   "source": []
  }
 ],
 "metadata": {
  "kernelspec": {
   "display_name": "Python 3",
   "language": "python",
   "name": "python3"
  },
  "language_info": {
   "codemirror_mode": {
    "name": "ipython",
    "version": 3
   },
   "file_extension": ".py",
   "mimetype": "text/x-python",
   "name": "python",
   "nbconvert_exporter": "python",
   "pygments_lexer": "ipython3",
   "version": "3.8.8"
  }
 },
 "nbformat": 4,
 "nbformat_minor": 5
}
