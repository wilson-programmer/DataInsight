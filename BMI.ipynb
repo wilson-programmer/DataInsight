{
 "cells": [
  {
   "cell_type": "markdown",
   "id": "c31b21dd",
   "metadata": {},
   "source": [
    "***This function take weight and height, find the Body Max Index***"
   ]
  },
  {
   "cell_type": "code",
   "execution_count": 14,
   "id": "22fbbeb4",
   "metadata": {},
   "outputs": [],
   "source": [
    "def BMI(weight, height):\n",
    "    bmi = weight/height**2\n",
    "    if bmi<18.5:\n",
    "        print(f\"Your Body Mass Index is : {bmi}\")\n",
    "        print(\"Underweight which may cause some health risks.\")\n",
    "        \n",
    "    if bmi>18.5 and bmi<=24.9:\n",
    "        print(f\"Your Body Mass Index is : {bmi}\")        \n",
    "        print(\"Healthy weight that does not increase health risks.\")\n",
    "        \n",
    "    if bmi>=25 and bmi<=29.9:\n",
    "        print(f\"Your Body Mass Index is : {bmi}\")\n",
    "        print(\"Excess weight can cause certain health risks.\")\n",
    "        \n",
    "        \n",
    "    if bmi>=30:\n",
    "        print(f\"Your Body Mass Index is : {bmi}\")\n",
    "        print(\"Increased risk of developing certain diseases\")\n",
    "    "
   ]
  },
  {
   "cell_type": "markdown",
   "id": "03a79016",
   "metadata": {},
   "source": [
    "**let see some example**"
   ]
  },
  {
   "cell_type": "code",
   "execution_count": 15,
   "id": "5503990e",
   "metadata": {},
   "outputs": [
    {
     "name": "stdout",
     "output_type": "stream",
     "text": [
      "Your Body Mass Index is : 19.377162629757787\n",
      "Healthy weight that does not increase health risks.\n"
     ]
    }
   ],
   "source": [
    "BMI(56,1.7)"
   ]
  },
  {
   "cell_type": "code",
   "execution_count": 16,
   "id": "97b7731e",
   "metadata": {},
   "outputs": [
    {
     "name": "stdout",
     "output_type": "stream",
     "text": [
      "Your Body Mass Index is : 27.343749999999996\n",
      "Excess weight can cause certain health risks.\n"
     ]
    }
   ],
   "source": [
    "BMI(70, 1.6)"
   ]
  },
  {
   "cell_type": "code",
   "execution_count": null,
   "id": "94642dd6",
   "metadata": {},
   "outputs": [],
   "source": []
  }
 ],
 "metadata": {
  "kernelspec": {
   "display_name": "Python 3",
   "language": "python",
   "name": "python3"
  },
  "language_info": {
   "codemirror_mode": {
    "name": "ipython",
    "version": 3
   },
   "file_extension": ".py",
   "mimetype": "text/x-python",
   "name": "python",
   "nbconvert_exporter": "python",
   "pygments_lexer": "ipython3",
   "version": "3.8.8"
  }
 },
 "nbformat": 4,
 "nbformat_minor": 5
}
